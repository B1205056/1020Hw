{
  "nbformat": 4,
  "nbformat_minor": 0,
  "metadata": {
    "colab": {
      "provenance": []
    },
    "kernelspec": {
      "name": "python3",
      "display_name": "Python 3"
    },
    "language_info": {
      "name": "python"
    }
  },
  "cells": [
    {
      "cell_type": "code",
      "execution_count": null,
      "metadata": {
        "colab": {
          "base_uri": "https://localhost:8080/"
        },
        "id": "B7hF2wJ18wxY",
        "outputId": "c8361d55-8a5e-439e-a013-67f48961d6e6"
      },
      "outputs": [
        {
          "output_type": "stream",
          "name": "stdout",
          "text": [
            "輸入範圍3\n",
            "1x1=1\n",
            "1x2=2\n",
            "1x3=3\n",
            "2x1=2\n",
            "2x2=4\n",
            "2x3=6\n",
            "3x1=3\n",
            "3x2=6\n",
            "3x3=9\n"
          ]
        }
      ],
      "source": [
        "num = int(input(\"輸入範圍\"))\n",
        "for i in range(1,num+1):\n",
        "  for j in range(1,num+1):\n",
        "    print(f\"{i}x{j}={i*j}\")"
      ]
    },
    {
      "cell_type": "code",
      "source": [
        "import random\n",
        "target_number = random.randint(1,100)\n",
        "print(\"歡迎參加猜數字遊戲!\")\n",
        "a=0\n",
        "while a==0 :\n",
        "  print(\"請輸入您的猜測\")\n",
        "  num_str=input()\n",
        "  num=int(num_str)\n",
        "  if num==target_number:\n",
        "    print(f\"恭喜答對，答案是{target_number}\")\n",
        "    print(\"遊戲結束\")\n",
        "    a=1\n",
        "  elif num<target_number:\n",
        "    print(\"猜太低\")\n",
        "    a=0\n",
        "  else:\n",
        "    print(\"猜太高\")\n",
        "    a=0"
      ],
      "metadata": {
        "colab": {
          "base_uri": "https://localhost:8080/"
        },
        "id": "M6xgZwGnBo3t",
        "outputId": "56cac6cc-0d13-4b44-caf4-fbe44753b3f9"
      },
      "execution_count": 27,
      "outputs": [
        {
          "output_type": "stream",
          "name": "stdout",
          "text": [
            "歡迎參加猜數字遊戲!\n",
            "51\n",
            "請輸入您的猜測\n",
            "50\n",
            "猜太低\n",
            "請輸入您的猜測\n",
            "52\n",
            "猜太高\n",
            "請輸入您的猜測\n",
            "51\n",
            "恭喜答對，答案是51\n",
            "遊戲結束\n"
          ]
        }
      ]
    }
  ]
}