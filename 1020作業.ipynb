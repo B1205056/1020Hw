{
  "nbformat": 4,
  "nbformat_minor": 0,
  "metadata": {
    "colab": {
      "provenance": []
    },
    "kernelspec": {
      "name": "python3",
      "display_name": "Python 3"
    },
    "language_info": {
      "name": "python"
    }
  },
  "cells": [
    {
      "cell_type": "code",
      "execution_count": 26,
      "metadata": {
        "colab": {
          "base_uri": "https://localhost:8080/"
        },
        "id": "B7hF2wJ18wxY",
        "outputId": "c8361d55-8a5e-439e-a013-67f48961d6e6"
      },
      "outputs": [
        {
          "output_type": "stream",
          "name": "stdout",
          "text": [
            "輸入範圍3\n",
            "1x1=1\n",
            "1x2=2\n",
            "1x3=3\n",
            "2x1=2\n",
            "2x2=4\n",
            "2x3=6\n",
            "3x1=3\n",
            "3x2=6\n",
            "3x3=9\n"
          ]
        }
      ],
      "source": [
        "num = int(input(\"輸入範圍\"))\n",
        "for i in range(1,num+1):\n",
        "  for j in range(1,num+1):\n",
        "    print(f\"{i}x{j}={i*j}\")"
      ]
    },
    {
      "cell_type": "code",
      "source": [
        "import random\n",
        "target_number = random.randint(1,100)\n",
        "print(\"歡迎參加猜數字遊戲!\")\n",
        "print(target_number)\n",
        "a=0\n",
        "while a==0 :\n",
        "  print(\"請輸入您的猜測\")\n",
        "  num_str=input()\n",
        "  num=int(num_str)\n",
        "  if num==target_number:\n",
        "    print(\"恭喜答對\")\n",
        "    print(\"遊戲結束\")\n",
        "    a=1\n",
        "  elif num<target_number:\n",
        "    print(\"猜太低\")\n",
        "    a=0\n",
        "  else:\n",
        "    print(\"猜太高\")\n",
        "    a=0"
      ],
      "metadata": {
        "colab": {
          "base_uri": "https://localhost:8080/"
        },
        "id": "M6xgZwGnBo3t",
        "outputId": "690971dd-d721-41e8-e57a-1d94ce6fc9e5"
      },
      "execution_count": 22,
      "outputs": [
        {
          "output_type": "stream",
          "name": "stdout",
          "text": [
            "歡迎參加猜數字遊戲!\n",
            "19\n",
            "請輸入您的猜測\n",
            "18\n",
            "猜太低\n",
            "請輸入您的猜測\n",
            "60\n",
            "猜太高\n",
            "請輸入您的猜測\n",
            "78\n",
            "猜太高\n",
            "請輸入您的猜測\n",
            "19\n",
            "恭喜答對\n",
            "遊戲結束\n"
          ]
        }
      ]
    }
  ]
}